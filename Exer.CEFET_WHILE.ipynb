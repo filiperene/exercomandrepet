{
 "cells": [
  {
   "cell_type": "code",
   "execution_count": null,
   "id": "b761d13f",
   "metadata": {},
   "outputs": [],
   "source": [
    "n = int(input(\"INSIRA UM NÚMERO: \"))\n",
    "limite = int(input(\"INSIRA UM LIMITE: \"))\n",
    "while(n<limite):\n",
    "  print(n , \"/\" , n+1)\n",
    "  n=n+1"
   ]
  },
  {
   "cell_type": "code",
   "execution_count": null,
   "id": "1ee17b93",
   "metadata": {},
   "outputs": [],
   "source": [
    "n = 1\n",
    "a = 1\n",
    "quantidade = int(input(\"Quantos números voce quer somar: \"))\n",
    "soma = 0\n",
    "while(a<=quantidade):\n",
    "  soma = soma+n\n",
    "  n+=1\n",
    "  a+=1\n",
    "  print(soma)"
   ]
  },
  {
   "cell_type": "code",
   "execution_count": null,
   "id": "37cf5ee4",
   "metadata": {},
   "outputs": [],
   "source": [
    "n = 1\n",
    "a = 1\n",
    "quantidade = int(input(\"INSIRA UM LIMITE: \"))\n",
    "soma = 0\n",
    "while(a<=quantidade):\n",
    "  soma = soma+n\n",
    "  n=n+2\n",
    "  a=a+1\n",
    "print(soma)"
   ]
  },
  {
   "cell_type": "code",
   "execution_count": null,
   "id": "21f8bf0f",
   "metadata": {},
   "outputs": [],
   "source": [
    "n = 1\n",
    "a = 1\n",
    "quantidade = int(input(\"INSIRA UM LIMITE: \"))\n",
    "soma = 0\n",
    "while(a<=quantidade):\n",
    "  soma = soma + ((n)/(n+1))\n",
    "  a=a+1\n",
    "  n=(n+2)\n",
    "print(soma)"
   ]
  },
  {
   "cell_type": "code",
   "execution_count": null,
   "id": "fef6e7fd",
   "metadata": {},
   "outputs": [],
   "source": [
    "contador = 0\n",
    "n = 1\n",
    "quantidade = int(input(\"QUANTAS VEZES VOCE DESEJA SOMAR: \"))\n",
    "soma = 0\n",
    "while(contador<quantidade):\n",
    "  if(contador%2==0):\n",
    "    soma = soma + ((4)/(n))\n",
    "  else:\n",
    "    soma = soma - ((4)/(n))\n",
    "  contador+=1\n",
    "  n+=2\n",
    "print(soma)"
   ]
  },
  {
   "cell_type": "code",
   "execution_count": null,
   "id": "69c3fe1c",
   "metadata": {},
   "outputs": [],
   "source": [
    "contador = 0\n",
    "n = 1\n",
    "fatorial = int(input(\"INSIRA UM VALOR PARA CALCULAR O FATORIAL: \"))\n",
    "soma = 1\n",
    "while(contador<fatorial):\n",
    "  soma = soma*n\n",
    "  n+=1\n",
    "  contador+=1\n",
    "print(soma)"
   ]
  },
  {
   "cell_type": "code",
   "execution_count": null,
   "id": "15383342",
   "metadata": {},
   "outputs": [],
   "source": [
    " senha = \"***\"\n",
    "tentativas = input(\"Digite a sua senha: \")\n",
    "while(senha != tentativas):\n",
    "    print(\"Senha Inválida\")\n",
    "    tentativas = input(\"Digite a sua senha: \")\n",
    "print(\"seja bem vindo\")"
   ]
  },
  {
   "cell_type": "code",
   "execution_count": null,
   "id": "798912f4",
   "metadata": {},
   "outputs": [],
   "source": [
    "n = int(input(\"Insira o número de Alunos de uma sala: \"))\n",
    "n1 = 0\n",
    "m = 0\n",
    "while(n1<n):\n",
    "  a=int(input(\"Digite a nota do aluno: \"))\n",
    "  m+=a\n",
    "  n1+=1\n",
    "print(m/n)"
   ]
  },
  {
   "cell_type": "code",
   "execution_count": null,
   "id": "c00c020d",
   "metadata": {},
   "outputs": [],
   "source": [
    "n=0\n",
    "a=int(input(\"DIGITE O NÚMERO LIMITE PARA VER QUANTOS PARES TEM ANTES DELE: \"))\n",
    "soma=0\n",
    "while(n<a):\n",
    "  n+=1\n",
    "  if(n%2==0):\n",
    "    print(n , 'é par ')\n",
    "    soma+=1\n",
    "  else:\n",
    "    print(n, 'n é par')\n",
    "print(\"Existem:\" ,soma, \"números pares antes dele\")\n"
   ]
  },
  {
   "cell_type": "code",
   "execution_count": null,
   "id": "289874f2",
   "metadata": {},
   "outputs": [],
   "source": [
    "n=0\n",
    "while(n<=9):\n",
    "  n=n+1\n",
    "  print(n)\n",
    "  "
   ]
  },
  {
   "cell_type": "code",
   "execution_count": null,
   "id": "9acc3aed",
   "metadata": {},
   "outputs": [],
   "source": [
    "n=int(input('Digite sua nota: '))\n",
    "while(n<0 or n>10):\n",
    "  print('INSIRA UMA NOTA VÁLIDA')\n",
    "  n=int(input(\"Tente novamente outro valor: \"))\n",
    "print('NOTA VÁLIDA ')\n",
    "  "
   ]
  }
 ],
 "metadata": {
  "kernelspec": {
   "display_name": "Python 3 (ipykernel)",
   "language": "python",
   "name": "python3"
  },
  "language_info": {
   "codemirror_mode": {
    "name": "ipython",
    "version": 3
   },
   "file_extension": ".py",
   "mimetype": "text/x-python",
   "name": "python",
   "nbconvert_exporter": "python",
   "pygments_lexer": "ipython3",
   "version": "3.9.7"
  }
 },
 "nbformat": 4,
 "nbformat_minor": 5
}
